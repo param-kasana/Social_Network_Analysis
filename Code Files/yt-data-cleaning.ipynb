{
 "cells": [
  {
   "cell_type": "code",
   "execution_count": 3,
   "id": "ccd890de",
   "metadata": {},
   "outputs": [],
   "source": [
    "#import necessary libraries\n",
    "import pandas as pd\n",
    "import numpy as np\n",
    "import matplotlib.pyplot as plt\n",
    "import seaborn as sns\n",
    "import gensim\n",
    "from gensim import corpora"
   ]
  },
  {
   "cell_type": "code",
   "execution_count": 4,
   "id": "03c94954",
   "metadata": {},
   "outputs": [],
   "source": [
    "#Reading in the dataset from a CSV file\n",
    "df = pd.read_csv('yt_data.csv')"
   ]
  },
  {
   "cell_type": "code",
   "execution_count": 17,
   "id": "7094b35d",
   "metadata": {},
   "outputs": [
    {
     "name": "stdout",
     "output_type": "stream",
     "text": [
      "<class 'pandas.core.frame.DataFrame'>\n",
      "Index: 29 entries, 0 to 4259\n",
      "Data columns (total 11 columns):\n",
      " #   Column                 Non-Null Count  Dtype              \n",
      "---  ------                 --------------  -----              \n",
      " 0   Video ID               29 non-null     object             \n",
      " 1   Title                  29 non-null     object             \n",
      " 2   Description            29 non-null     object             \n",
      " 3   View Count             29 non-null     int64              \n",
      " 4   Like Count             29 non-null     int64              \n",
      " 5   Comment Count          29 non-null     int64              \n",
      " 6   Upload Date            29 non-null     datetime64[ns, UTC]\n",
      " 7   Channel Name           29 non-null     object             \n",
      " 8   Comment                29 non-null     object             \n",
      " 9   comment_author         29 non-null     object             \n",
      " 10  Processed_Description  29 non-null     object             \n",
      "dtypes: datetime64[ns, UTC](1), int64(3), object(7)\n",
      "memory usage: 2.7+ KB\n"
     ]
    },
    {
     "data": {
      "text/html": [
       "<div>\n",
       "<style scoped>\n",
       "    .dataframe tbody tr th:only-of-type {\n",
       "        vertical-align: middle;\n",
       "    }\n",
       "\n",
       "    .dataframe tbody tr th {\n",
       "        vertical-align: top;\n",
       "    }\n",
       "\n",
       "    .dataframe thead th {\n",
       "        text-align: right;\n",
       "    }\n",
       "</style>\n",
       "<table border=\"1\" class=\"dataframe\">\n",
       "  <thead>\n",
       "    <tr style=\"text-align: right;\">\n",
       "      <th></th>\n",
       "      <th>View Count</th>\n",
       "      <th>Like Count</th>\n",
       "      <th>Comment Count</th>\n",
       "    </tr>\n",
       "  </thead>\n",
       "  <tbody>\n",
       "    <tr>\n",
       "      <th>count</th>\n",
       "      <td>2.900000e+01</td>\n",
       "      <td>29.000000</td>\n",
       "      <td>29.000000</td>\n",
       "    </tr>\n",
       "    <tr>\n",
       "      <th>mean</th>\n",
       "      <td>3.316995e+05</td>\n",
       "      <td>10718.965517</td>\n",
       "      <td>676.758621</td>\n",
       "    </tr>\n",
       "    <tr>\n",
       "      <th>std</th>\n",
       "      <td>4.307073e+05</td>\n",
       "      <td>16867.885983</td>\n",
       "      <td>792.326486</td>\n",
       "    </tr>\n",
       "    <tr>\n",
       "      <th>min</th>\n",
       "      <td>1.130000e+02</td>\n",
       "      <td>15.000000</td>\n",
       "      <td>4.000000</td>\n",
       "    </tr>\n",
       "    <tr>\n",
       "      <th>25%</th>\n",
       "      <td>3.442200e+04</td>\n",
       "      <td>1392.000000</td>\n",
       "      <td>102.000000</td>\n",
       "    </tr>\n",
       "    <tr>\n",
       "      <th>50%</th>\n",
       "      <td>1.986940e+05</td>\n",
       "      <td>4497.000000</td>\n",
       "      <td>422.000000</td>\n",
       "    </tr>\n",
       "    <tr>\n",
       "      <th>75%</th>\n",
       "      <td>3.184900e+05</td>\n",
       "      <td>8057.000000</td>\n",
       "      <td>868.000000</td>\n",
       "    </tr>\n",
       "    <tr>\n",
       "      <th>max</th>\n",
       "      <td>1.470850e+06</td>\n",
       "      <td>75165.000000</td>\n",
       "      <td>3272.000000</td>\n",
       "    </tr>\n",
       "  </tbody>\n",
       "</table>\n",
       "</div>"
      ],
      "text/plain": [
       "         View Count    Like Count  Comment Count\n",
       "count  2.900000e+01     29.000000      29.000000\n",
       "mean   3.316995e+05  10718.965517     676.758621\n",
       "std    4.307073e+05  16867.885983     792.326486\n",
       "min    1.130000e+02     15.000000       4.000000\n",
       "25%    3.442200e+04   1392.000000     102.000000\n",
       "50%    1.986940e+05   4497.000000     422.000000\n",
       "75%    3.184900e+05   8057.000000     868.000000\n",
       "max    1.470850e+06  75165.000000    3272.000000"
      ]
     },
     "execution_count": 17,
     "metadata": {},
     "output_type": "execute_result"
    }
   ],
   "source": [
    "# Display the first few rows of the dataset\n",
    "df.head()\n",
    "\n",
    "# Get info about columns, data types, and null values\n",
    "df.info()\n",
    "\n",
    "# Describe statistical metrics for numeric columns\n",
    "df.describe()"
   ]
  },
  {
   "cell_type": "code",
   "execution_count": 8,
   "id": "122e8651",
   "metadata": {},
   "outputs": [],
   "source": [
    "#remove duplicates\n",
    "df.drop_duplicates(subset='Video ID', keep='first', inplace=True)"
   ]
  },
  {
   "cell_type": "code",
   "execution_count": 9,
   "id": "562bc3af",
   "metadata": {},
   "outputs": [],
   "source": [
    "#handle missing values\n",
    "# For example, if you want to drop rows where 'Title' is missing:\n",
    "df.dropna(subset=['Title'], inplace=True)"
   ]
  },
  {
   "cell_type": "code",
   "execution_count": 10,
   "id": "6ce33523",
   "metadata": {},
   "outputs": [],
   "source": [
    "# Converting the 'Upload Date' column to a datetime format for easier date-related operations\n",
    "df['Upload Date'] = pd.to_datetime(df['Upload Date'])"
   ]
  },
  {
   "cell_type": "code",
   "execution_count": 11,
   "id": "bd4f0bf4",
   "metadata": {},
   "outputs": [],
   "source": [
    "# Converting the 'View Count', 'Like Count', and 'Comment Count' columns to integer data type for numerical operations\n",
    "df['View Count'] = df['View Count'].astype(int)\n",
    "df['Like Count'] = df['Like Count'].astype(int)\n",
    "df['Comment Count'] = df['Comment Count'].astype(int)"
   ]
  },
  {
   "cell_type": "code",
   "execution_count": 48,
   "id": "21dc0f1a",
   "metadata": {},
   "outputs": [],
   "source": [
    "#text cleaning\n",
    "\n",
    "# Removing URLs from the 'Description', 'Title', and 'Comment' columns\n",
    "df['Description'] = df['Description'].str.replace('http\\S+|www.\\S+', '', case=False)\n",
    "df['Title'] = df['Title'].str.replace('http\\S+|www.\\S+', '', case=False)\n",
    "df['Comment'] = df['Comment'].str.replace('http\\S+|www.\\S+', '', case=False)"
   ]
  },
  {
   "cell_type": "code",
   "execution_count": 49,
   "id": "b50b3c8b",
   "metadata": {},
   "outputs": [],
   "source": [
    "#removing empty rows\n",
    "df.dropna(inplace=True)"
   ]
  },
  {
   "cell_type": "code",
   "execution_count": 38,
   "id": "3007e713",
   "metadata": {},
   "outputs": [
    {
     "name": "stderr",
     "output_type": "stream",
     "text": [
      "[nltk_data] Downloading package punkt to\n",
      "[nltk_data]     /Users/swetakarmacharya/nltk_data...\n",
      "[nltk_data]   Package punkt is already up-to-date!\n",
      "[nltk_data] Downloading package wordnet to\n",
      "[nltk_data]     /Users/swetakarmacharya/nltk_data...\n",
      "[nltk_data]   Package wordnet is already up-to-date!\n",
      "[nltk_data] Downloading package stopwords to\n",
      "[nltk_data]     /Users/swetakarmacharya/nltk_data...\n",
      "[nltk_data]   Package stopwords is already up-to-date!\n"
     ]
    }
   ],
   "source": [
    "import nltk\n",
    "from nltk.corpus import stopwords\n",
    "from nltk.tokenize import word_tokenize\n",
    "from nltk.stem import WordNetLemmatizer\n",
    "\n",
    "# Downloading required NLTK datasets\n",
    "nltk.download('punkt')\n",
    "nltk.download('wordnet')\n",
    "nltk.download('stopwords')\n",
    "\n",
    "# Initializing the lemmatizer\n",
    "lemmatizer = WordNetLemmatizer()\n",
    "\n",
    "# List of stopwords\n",
    "stop_words = set(stopwords.words('english')).union({'I', 'the', 'make', 'get'})\n",
    "\n",
    "def preprocess_text(text):\n",
    "    # Tokenize\n",
    "    words = word_tokenize(text)\n",
    "\n",
    "    # Convert to lowercase, remove stop words, lemmatize, and filter out numeric words\n",
    "    words = [lemmatizer.lemmatize(word.lower()) for word in words \n",
    "             if word.lower() not in stop_words and word.isalnum() and not word.isdigit()]\n",
    "    \n",
    "    # Return the processed list of words as a single string\n",
    "    return ' '.join(words)\n",
    "\n",
    "\n",
    "# Apply preprocessing to the 'Description', 'Title' and 'Comment' column\n",
    "df['Processed_Description'] = df['Description'].apply(preprocess_text)\n",
    "\n",
    "df['Processed_Title'] = df['Title'].apply(preprocess_text)\n",
    "\n",
    "df['Processed_Comment'] = df['Comment'].apply(preprocess_text)"
   ]
  },
  {
   "cell_type": "code",
   "execution_count": 50,
   "id": "c430b672",
   "metadata": {},
   "outputs": [
    {
     "data": {
      "text/html": [
       "<div>\n",
       "<style scoped>\n",
       "    .dataframe tbody tr th:only-of-type {\n",
       "        vertical-align: middle;\n",
       "    }\n",
       "\n",
       "    .dataframe tbody tr th {\n",
       "        vertical-align: top;\n",
       "    }\n",
       "\n",
       "    .dataframe thead th {\n",
       "        text-align: right;\n",
       "    }\n",
       "</style>\n",
       "<table border=\"1\" class=\"dataframe\">\n",
       "  <thead>\n",
       "    <tr style=\"text-align: right;\">\n",
       "      <th></th>\n",
       "      <th>Description</th>\n",
       "      <th>Processed_Description</th>\n",
       "    </tr>\n",
       "  </thead>\n",
       "  <tbody>\n",
       "    <tr>\n",
       "      <th>2218</th>\n",
       "      <td>Lets talk about how to retire in 10 year, star...</td>\n",
       "      <td>let talk retire year starting build portfolio ...</td>\n",
       "    </tr>\n",
       "    <tr>\n",
       "      <th>2862</th>\n",
       "      <td>After pursuing Financial Independence, Retire ...</td>\n",
       "      <td>pursuing financial independence retire early f...</td>\n",
       "    </tr>\n",
       "    <tr>\n",
       "      <th>3661</th>\n",
       "      <td>We share our plan to retire in 8 years and how...</td>\n",
       "      <td>share plan retire year compound interest u vid...</td>\n",
       "    </tr>\n",
       "    <tr>\n",
       "      <th>2725</th>\n",
       "      <td>The first 1000 people to use the link will get...</td>\n",
       "      <td>first people use link free trial skillshare pr...</td>\n",
       "    </tr>\n",
       "    <tr>\n",
       "      <th>87</th>\n",
       "      <td>The idea of early retirement has captured the ...</td>\n",
       "      <td>idea early retirement captured attention many ...</td>\n",
       "    </tr>\n",
       "  </tbody>\n",
       "</table>\n",
       "</div>"
      ],
      "text/plain": [
       "                                            Description  \\\n",
       "2218  Lets talk about how to retire in 10 year, star...   \n",
       "2862  After pursuing Financial Independence, Retire ...   \n",
       "3661  We share our plan to retire in 8 years and how...   \n",
       "2725  The first 1000 people to use the link will get...   \n",
       "87    The idea of early retirement has captured the ...   \n",
       "\n",
       "                                  Processed_Description  \n",
       "2218  let talk retire year starting build portfolio ...  \n",
       "2862  pursuing financial independence retire early f...  \n",
       "3661  share plan retire year compound interest u vid...  \n",
       "2725  first people use link free trial skillshare pr...  \n",
       "87    idea early retirement captured attention many ...  "
      ]
     },
     "execution_count": 50,
     "metadata": {},
     "output_type": "execute_result"
    }
   ],
   "source": [
    "# Displaying a random sample of 5 rows from the 'Description' and 'Processed_Description' columns\n",
    "df[['Description', 'Processed_Description']].sample(5)"
   ]
  },
  {
   "cell_type": "code",
   "execution_count": 52,
   "id": "f54c46ce",
   "metadata": {},
   "outputs": [
    {
     "name": "stdout",
     "output_type": "stream",
     "text": [
      "Original Top 10: [('to', 262), ('and', 209), ('the', 200), ('of', 158), ('a', 117), ('in', 111), ('you', 102), ('-', 97), ('your', 96), ('for', 90)]\n",
      "\n",
      "Processed Top 10: [('http', 253), ('financial', 96), ('fire', 87), ('early', 64), ('video', 62), ('money', 51), ('independence', 47), ('retire', 47), ('link', 39), ('retirement', 35)]\n"
     ]
    }
   ],
   "source": [
    "#Checking word distibution\n",
    "\n",
    "from collections import Counter\n",
    "\n",
    "# Before preprocessing\n",
    "original_words = [word for text in df['Description'] for word in str(text).split()]\n",
    "original_freq = Counter(original_words)\n",
    "\n",
    "# After preprocessing\n",
    "processed_words = [word for text in df['Processed_Description'] for word in str(text).split()]\n",
    "processed_freq = Counter(processed_words)\n",
    "\n",
    "# Display the most common words for each\n",
    "print(\"Original Top 10:\", original_freq.most_common(10))\n",
    "print(\"\\nProcessed Top 10:\", processed_freq.most_common(10))\n"
   ]
  },
  {
   "cell_type": "code",
   "execution_count": 41,
   "id": "294dc785",
   "metadata": {},
   "outputs": [
    {
     "data": {
      "image/png": "[encoded data removed]",
      "text/plain": [
       "<Figure size 1500x500 with 1 Axes>"
      ]
     },
     "metadata": {},
     "output_type": "display_data"
    }
   ],
   "source": [
    "import matplotlib.pyplot as plt\n",
    "\n",
    "# Visualize the top 10 most common words after processing\n",
    "labels, values = zip(*processed_freq.most_common(10))\n",
    "\n",
    "plt.figure(figsize=(15,5))\n",
    "plt.bar(labels, values)\n",
    "plt.title('Top 10 Most Common Words in Processed Descriptions')\n",
    "plt.show()"
   ]
  },
  {
   "cell_type": "code",
   "execution_count": 42,
   "id": "5569ef02",
   "metadata": {},
   "outputs": [
    {
     "name": "stdout",
     "output_type": "stream",
     "text": [
      "set()\n"
     ]
    }
   ],
   "source": [
    "#check for any remaining stop words\n",
    "remaining_stopwords = [word for word in processed_words if word in stopwords.words('english')]\n",
    "print(set(remaining_stopwords))"
   ]
  },
  {
   "cell_type": "code",
   "execution_count": 47,
   "id": "b5491795",
   "metadata": {},
   "outputs": [
    {
     "name": "stdout",
     "output_type": "stream",
     "text": [
      "Average Original Length: 284\n",
      "Average Processed Length: 151\n"
     ]
    }
   ],
   "source": [
    "# Calculate the lengths\n",
    "df['Original_Length'] = df['Description'].apply(lambda x: len(str(x).split()))\n",
    "df['Processed_Length'] = df['Processed_Description'].apply(lambda x: len(str(x).split()))\n",
    "\n",
    "# Print the average lengths as integers\n",
    "print(\"Average Original Length:\", int(df['Original_Length'].mean()))\n",
    "print(\"Average Processed Length:\", int(df['Processed_Length'].mean()))"
   ]
  },
  {
   "cell_type": "code",
   "execution_count": 44,
   "id": "c80ff177",
   "metadata": {},
   "outputs": [],
   "source": [
    "#to check the top 50 words in the comments\n",
    "# Extract word frequencies from the 'Processed_Comment' column\n",
    "comment_words = [word for text in df['Processed_Comment'] for word in str(text).split()]\n",
    "comment_freq = Counter(comment_words)"
   ]
  },
  {
   "cell_type": "code",
   "execution_count": 45,
   "id": "1b22734a",
   "metadata": {},
   "outputs": [
    {
     "name": "stdout",
     "output_type": "stream",
     "text": [
      "http: 24\n",
      "plan: 10\n",
      "income: 8\n",
      "video: 8\n",
      "free: 8\n",
      "investing: 8\n",
      "financial: 7\n",
      "money: 7\n",
      "need: 6\n",
      "great: 6\n",
      "year: 5\n",
      "try: 4\n",
      "m1: 4\n",
      "work: 4\n",
      "fire: 4\n",
      "enroll: 4\n",
      "stock: 4\n",
      "day: 4\n",
      "program: 4\n",
      "portugal: 4\n",
      "aud: 4\n",
      "real: 4\n",
      "estate: 4\n",
      "group: 4\n",
      "working: 3\n",
      "premium: 3\n",
      "made: 3\n",
      "401k: 3\n",
      "tax: 3\n",
      "thing: 3\n",
      "resource: 3\n",
      "learn: 3\n",
      "market: 3\n",
      "course: 3\n",
      "right: 3\n",
      "investment: 3\n",
      "monthly: 3\n",
      "love: 3\n",
      "listed: 3\n",
      "ibkr: 3\n",
      "first: 3\n",
      "live: 3\n",
      "facebook: 3\n",
      "retirement: 3\n",
      "good: 3\n",
      "finance: 2\n",
      "transfer: 2\n",
      "seeking: 2\n",
      "alpha: 2\n",
      "instagram: 2\n"
     ]
    }
   ],
   "source": [
    "# Display the top 50 most common words from the processed comments\n",
    "top_50_comment_words = comment_freq.most_common(50)\n",
    "for word, freq in top_50_comment_words:\n",
    "    print(f\"{word}: {freq}\")"
   ]
  },
  {
   "cell_type": "code",
   "execution_count": 46,
   "id": "e0964641",
   "metadata": {},
   "outputs": [
    {
     "data": {
      "image/png": "[encoded data removed]",
      "text/plain": [
       "<Figure size 2000x1000 with 1 Axes>"
      ]
     },
     "metadata": {},
     "output_type": "display_data"
    }
   ],
   "source": [
    "# Visualizing the top 50 most common words\n",
    "labels, values = zip(*top_50_comment_words)\n",
    "\n",
    "plt.figure(figsize=(20,10))\n",
    "plt.bar(labels, values)\n",
    "plt.xticks(rotation=90)\n",
    "plt.title('Top 50 Most Common Words in Processed Comments')\n",
    "plt.show()"
   ]
  }
 ],
 "metadata": {
  "kernelspec": {
   "display_name": "Python 3 (ipykernel)",
   "language": "python",
   "name": "python3"
  },
  "language_info": {
   "codemirror_mode": {
    "name": "ipython",
    "version": 3
   },
   "file_extension": ".py",
   "mimetype": "text/x-python",
   "name": "python",
   "nbconvert_exporter": "python",
   "pygments_lexer": "ipython3",
   "version": "3.11.5"
  }
 },
 "nbformat": 4,
 "nbformat_minor": 5
}
